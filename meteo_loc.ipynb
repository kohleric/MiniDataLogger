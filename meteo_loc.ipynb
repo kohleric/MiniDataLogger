{
 "cells": [
  {
   "cell_type": "markdown",
   "id": "2c6992f1",
   "metadata": {},
   "source": [
    "    ## Page meteo"
   ]
  },
  {
   "cell_type": "code",
   "execution_count": 4,
   "id": "41a7f03a-05c3-47c4-8f54-a9ac56bbd924",
   "metadata": {
    "scrolled": true,
    "tags": []
   },
   "outputs": [
    {
     "data": {
      "application/vnd.jupyter.widget-view+json": {
       "model_id": "c848add2655c405fa4040d91c18c81a0",
       "version_major": 2,
       "version_minor": 0
      },
      "text/plain": [
       "RadioButtons(description='Choix du capteur à cartographier :', index=4, options=(' Température (°C)', ' Humidi…"
      ]
     },
     "metadata": {},
     "output_type": "display_data"
    },
    {
     "data": {
      "application/vnd.jupyter.widget-view+json": {
       "model_id": "45f68d628aa842baaca13b1729db010f",
       "version_major": 2,
       "version_minor": 0
      },
      "text/plain": [
       "Button(description='Calcul carte', style=ButtonStyle())"
      ]
     },
     "metadata": {},
     "output_type": "display_data"
    },
    {
     "data": {
      "application/vnd.jupyter.widget-view+json": {
       "model_id": "8c416ea86d3f4627b8cdc229c7eb70b4",
       "version_major": 2,
       "version_minor": 0
      },
      "text/plain": [
       "Output()"
      ]
     },
     "metadata": {},
     "output_type": "display_data"
    }
   ],
   "source": [
    "import pandas as pd\n",
    "import folium\n",
    "import matplotlib.pyplot as plt\n",
    "from folium.plugins import HeatMap\n",
    "import os\n",
    "#print(os.getcwd())\n",
    "#file_path = \"meteo/resultats_2025-02-02_08-44-57.csv\"\n",
    "file_path = \"data_2.txt\"\n",
    "import ipywidgets as widgets\n",
    "\n",
    "\n",
    "df_raw = pd.read_csv(file_path)#, lineterminator='\\n')\n",
    "\n",
    "df=df_raw[df_raw[\" Latitude\"] != 0] \n",
    "\n",
    "#print(df)\n",
    "choix=widgets.RadioButtons(\n",
    "    options=df.columns[1:6].tolist(),\n",
    "    value=' eCO2 (ppm)', \n",
    "#    layout={'width': 'max-content'}, # If the items' names are long\n",
    "    description='Choix du capteur à cartographier :',\n",
    "    disabled=False\n",
    ")\n",
    "\n",
    "# save fichier clean\n",
    "df.to_csv(file_path.split(\".\")[0]+\"_traites.csv\", index=False)\n",
    "\n",
    "\n",
    "display(choix)\n",
    "\n",
    "from IPython.display import display\n",
    "button = widgets.Button(description=\"Calcul carte\")\n",
    "output = widgets.Output()\n",
    "\n",
    "display(button, output)\n",
    "\n",
    "def on_button_clicked(b):\n",
    "    with output:\n",
    "        print(\"Button clicked.\")\n",
    "        colonnes = [\" Latitude\", \" Longitude\", choix.value] \n",
    "        heatmap = df[colonnes].values.tolist()\n",
    "        \n",
    "\n",
    "        m=folium.Map(\n",
    "            [df[\" Latitude\"].iloc[0], df[\" Longitude\"].iloc[0]],\n",
    "            control_scale=True,\n",
    "            zoom_start=15,\n",
    "        )\n",
    "\n",
    "        HeatMap(heatmap).add_to(m)\n",
    "        display(m)\n",
    "        \n",
    "        m.save(\"map_\"+choix.value+\".html\")\n",
    "        \n",
    "button.on_click(on_button_clicked)"
   ]
  },
  {
   "cell_type": "code",
   "execution_count": 29,
   "id": "f8bae9b1",
   "metadata": {
    "tags": []
   },
   "outputs": [
    {
     "ename": "NameError",
     "evalue": "name 'latitude' is not defined",
     "output_type": "error",
     "traceback": [
      "\u001b[1;31m---------------------------------------------------------------------------\u001b[0m",
      "\u001b[1;31mNameError\u001b[0m                                 Traceback (most recent call last)",
      "Cell \u001b[1;32mIn[29], line 4\u001b[0m\n\u001b[0;32m      1\u001b[0m heatmap  \u001b[38;5;241m=\u001b[39m []\n\u001b[0;32m      3\u001b[0m m\u001b[38;5;241m=\u001b[39mfolium\u001b[38;5;241m.\u001b[39mMap(\n\u001b[1;32m----> 4\u001b[0m     [latitude, longitude],\u001b[38;5;66;03m#location=(-38.625, -12.875),\u001b[39;00m\n\u001b[0;32m      5\u001b[0m     control_scale\u001b[38;5;241m=\u001b[39m\u001b[38;5;28;01mTrue\u001b[39;00m,\n\u001b[0;32m      6\u001b[0m     zoom_start\u001b[38;5;241m=\u001b[39m\u001b[38;5;241m15\u001b[39m,\n\u001b[0;32m      7\u001b[0m )\n\u001b[0;32m      9\u001b[0m \u001b[38;5;28;01mfor\u001b[39;00m i \u001b[38;5;129;01min\u001b[39;00m \u001b[38;5;28mrange\u001b[39m(\u001b[38;5;28mlen\u001b[39m(df)):\n\u001b[0;32m     10\u001b[0m     \u001b[38;5;28;01mtry\u001b[39;00m:\n\u001b[0;32m     11\u001b[0m         \u001b[38;5;66;03m# Obtenir les valeurs pour chaque ligne\u001b[39;00m\n",
      "\u001b[1;31mNameError\u001b[0m: name 'latitude' is not defined"
     ]
    }
   ],
   "source": [
    "\n",
    "\n",
    "heatmap  = []\n",
    "\n",
    "m=folium.Map(\n",
    "    [latitude, longitude],#location=(-38.625, -12.875),\n",
    "    control_scale=True,\n",
    "    zoom_start=15,\n",
    ")\n",
    "\n",
    "for i in range(len(df)):\n",
    "    try:\n",
    "        # Obtenir les valeurs pour chaque ligne\n",
    "        lat = float(df.iloc[i][' Latitude'])\n",
    "        lon = float(df.iloc[i][' Longitude'])\n",
    "        voc = float(df.iloc[i]['VOC'])\n",
    "        co2 = float(df.iloc[i]['CO2'])\n",
    "        temperature = float(df.iloc[i]['Temperature'].split(\"°\")[0])\n",
    "        humidity = float(df.iloc[i]['Humidity'].split(\"%\")[0])\n",
    "        TempBME = float(df.iloc[i]['TempBME'].split(\"°\")[0])\n",
    "        pression = float(df.iloc[i]['Pression'].split(\" hPa\")[0])\n",
    "           \n",
    "        heatmap.append([lat,lon,co2])\n",
    "        \n",
    "        \n",
    "        if choix.value == \"CO2\":\n",
    "            radius=co2/10\n",
    "            color=\"r\"\n",
    "            heatmap_z=co2\n",
    "        if choix.value == \"VOC\":\n",
    "            radius=voc\n",
    "            color=\"g\"\n",
    "            heatmap_z=voc\n",
    "        if choix.value == \"Temperature\":\n",
    "            radius=temperature\n",
    "            color=\"blue\"\n",
    "            heatmap_z=temperature\n",
    "        if choix.value == \"Humidity\":\n",
    "            radius=humidity/2\n",
    "            color=\"orange\"\n",
    "            heatmap_z=humidity\n",
    "        if choix.value == \"TempBME\":\n",
    "            radius=TempBME\n",
    "            color=\"black\"\n",
    "            heatmap_z=TempBME\n",
    "        if choix.value == \"Pression\":\n",
    "            radius=pression/100\n",
    "            color=\"purple\"\n",
    "            heatmap_z=pression\n",
    "        heatmap.append([lat,lon,heatmap_z])\n",
    "        # Ajouter un cercle à la carte\n",
    "        #folium.Circle(\n",
    "            #location=[lat, lon],\n",
    "             \n",
    "            #radius=radius,#float(df.iloc[i][choix.value]),#co2/10,  # Rayon en mètres\n",
    "            \n",
    "            #color=color,  # Couleur de la bordure\n",
    "            #fill=True,  # Remplir le cercle\n",
    "            #fill_color=color,  # Couleur de remplissage\n",
    "            #fill_opacity=0.5,  # Opacité du remplissage\n",
    "        #).add_to(m)\n",
    "    except Exception as e:\n",
    "        print(f\"Erreur pour l'index {i}: {e}\")\n",
    "#heatmap=[lat_all,lon_all,heatmap_z]\n",
    "heatmap_map = [list(t) for t in zip(*heatmap)]\n",
    "HeatMap(heatmap).add_to(m)\n",
    "\n",
    "display(m)\n",
    "# Sauvegarder la carte dans un fichier HTML\n",
    "m.save(\"map_\"+choix.value+file_path.split(\".\")[0].split(\"resultats\")[1]+\".html\")\n"
   ]
  },
  {
   "cell_type": "code",
   "execution_count": 3,
   "id": "bf5d8501",
   "metadata": {},
   "outputs": [
    {
     "name": "stdout",
     "output_type": "stream",
     "text": [
      "Index(['Timestamp', 'Latitude', 'Longitude', 'Temperature', 'Humidity',\n",
      "       'TempBME', 'Pression', 'CO2', 'VOC'],\n",
      "      dtype='object')\n"
     ]
    }
   ],
   "source": [
    "print(df_brut.columns)"
   ]
  },
  {
   "cell_type": "code",
   "execution_count": null,
   "id": "af694e0f",
   "metadata": {},
   "outputs": [],
   "source": [
    "\n"
   ]
  },
  {
   "cell_type": "code",
   "execution_count": null,
   "id": "62d8fd41",
   "metadata": {},
   "outputs": [],
   "source": []
  },
  {
   "cell_type": "code",
   "execution_count": null,
   "id": "4e04bfed",
   "metadata": {},
   "outputs": [],
   "source": []
  },
  {
   "cell_type": "code",
   "execution_count": null,
   "id": "60eafbd6",
   "metadata": {},
   "outputs": [],
   "source": [
    "\n"
   ]
  },
  {
   "cell_type": "code",
   "execution_count": null,
   "id": "b49f23f6",
   "metadata": {},
   "outputs": [],
   "source": [
    "\n"
   ]
  },
  {
   "cell_type": "code",
   "execution_count": null,
   "id": "9445f88c",
   "metadata": {},
   "outputs": [],
   "source": []
  },
  {
   "cell_type": "code",
   "execution_count": null,
   "id": "d73ea4af",
   "metadata": {},
   "outputs": [],
   "source": []
  },
  {
   "cell_type": "code",
   "execution_count": null,
   "id": "7c770c7d",
   "metadata": {},
   "outputs": [],
   "source": []
  }
 ],
 "metadata": {
  "kernelspec": {
   "display_name": "Python 3 (ipykernel)",
   "language": "python",
   "name": "python3"
  },
  "language_info": {
   "codemirror_mode": {
    "name": "ipython",
    "version": 3
   },
   "file_extension": ".py",
   "mimetype": "text/x-python",
   "name": "python",
   "nbconvert_exporter": "python",
   "pygments_lexer": "ipython3",
   "version": "3.11.3"
  }
 },
 "nbformat": 4,
 "nbformat_minor": 5
}
